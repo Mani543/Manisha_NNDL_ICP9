{
 "cells": [
  {
   "cell_type": "code",
   "execution_count": null,
   "metadata": {
    "colab": {
     "base_uri": "https://localhost:8080/"
    },
    "id": "SKPWPiy8ECpF",
    "outputId": "85b854a8-ddcb-4160-8327-e755537a4fbc"
   },
   "outputs": [],
   "source": [
    "# Name: Manisha Lakkarsu\n",
    "# id: 700746573"
   ]
  },
  {
   "cell_type": "code",
   "execution_count": 2,
   "metadata": {},
   "outputs": [],
   "source": [
    "import pandas as pd #Basic packages for creating dataframes and loading dataset\n",
    "import numpy as np\n",
    "\n",
    "import matplotlib.pyplot as plt #Package for visualization\n",
    "\n",
    "import re #importing package for Regular expression operations\n",
    "\n",
    "from sklearn.model_selection import train_test_split #Package for splitting the data\n",
    "\n",
    "from sklearn.preprocessing import LabelEncoder #Package for conversion of categorical to Numerical\n",
    "\n",
    "from keras.preprocessing.text import Tokenizer #Tokenization\n",
    "from tensorflow.keras.preprocessing.sequence import pad_sequences #Add zeros or crop based on the length\n",
    "from keras.models import Sequential #Sequential Neural Network\n",
    "from keras.layers import Dense, Embedding, LSTM, SpatialDropout1D #For layers in Neural Network\n",
    "from tensorflow.keras.utils import to_categorical\n",
    "\n"
   ]
  },
  {
   "cell_type": "code",
   "execution_count": 3,
   "metadata": {
    "colab": {
     "base_uri": "https://localhost:8080/"
    },
    "id": "SIUp1TlKHlBJ",
    "outputId": "d32b9338-60e1-4acb-ad58-0e8c3518ce8a"
   },
   "outputs": [
    {
     "name": "stderr",
     "output_type": "stream",
     "text": [
      "C:\\Users\\manis\\AppData\\Local\\Temp\\ipykernel_11296\\3905233759.py:9: SettingWithCopyWarning: \n",
      "A value is trying to be set on a copy of a slice from a DataFrame.\n",
      "Try using .loc[row_indexer,col_indexer] = value instead\n",
      "\n",
      "See the caveats in the documentation: https://pandas.pydata.org/pandas-docs/stable/user_guide/indexing.html#returning-a-view-versus-a-copy\n",
      "  data['text'] = data['text'].apply(lambda x: x.lower())\n",
      "C:\\Users\\manis\\AppData\\Local\\Temp\\ipykernel_11296\\3905233759.py:10: SettingWithCopyWarning: \n",
      "A value is trying to be set on a copy of a slice from a DataFrame.\n",
      "Try using .loc[row_indexer,col_indexer] = value instead\n",
      "\n",
      "See the caveats in the documentation: https://pandas.pydata.org/pandas-docs/stable/user_guide/indexing.html#returning-a-view-versus-a-copy\n",
      "  data['text'] = data['text'].apply(lambda x: re.sub('[^a-zA-Z0-9\\s]', '', x))\n",
      "C:\\Users\\manis\\AppData\\Local\\Temp\\ipykernel_11296\\3905233759.py:11: SettingWithCopyWarning: \n",
      "A value is trying to be set on a copy of a slice from a DataFrame.\n",
      "Try using .loc[row_indexer,col_indexer] = value instead\n",
      "\n",
      "See the caveats in the documentation: https://pandas.pydata.org/pandas-docs/stable/user_guide/indexing.html#returning-a-view-versus-a-copy\n",
      "  data['text'] = data['text'].apply(lambda x: x.replace('rt', ' '))  # Remove 'rt' (Retweets)\n"
     ]
    }
   ],
   "source": [
    "# Load the dataset as a Pandas DataFrame\n",
    "dataset = pd.read_csv('Sentiment.csv')\n",
    "\n",
    "# Select only the necessary columns 'text' and 'sentiment'\n",
    "mask = dataset.columns.isin(['text', 'sentiment'])\n",
    "data = dataset.loc[:, mask]\n",
    "\n",
    "# Preprocess the text data\n",
    "data['text'] = data['text'].apply(lambda x: x.lower())\n",
    "data['text'] = data['text'].apply(lambda x: re.sub('[^a-zA-Z0-9\\s]', '', x))\n",
    "data['text'] = data['text'].apply(lambda x: x.replace('rt', ' '))  # Remove 'rt' (Retweets)\n"
   ]
  },
  {
   "cell_type": "code",
   "execution_count": 4,
   "metadata": {
    "colab": {
     "base_uri": "https://localhost:8080/",
     "height": 607
    },
    "id": "8jDyxVzMJzfP",
    "outputId": "bb8200dc-06eb-47aa-e34d-6cb0ce6a13ce"
   },
   "outputs": [],
   "source": [
    "# Define the function to create the LSTM model\n",
    "def createmodel():\n",
    "    model = Sequential()\n",
    "    model.add(Embedding(max_features, embed_dim, input_length=X.shape[1]))\n",
    "    model.add(LSTM(lstm_out, dropout=0.2, recurrent_dropout=0.2))\n",
    "    model.add(Dense(3, activation='softmax'))\n",
    "    model.compile(loss='categorical_crossentropy', optimizer='adam', metrics=['accuracy'])\n",
    "    return model\n",
    "\n",
    "# Tokenization\n",
    "max_features = 2000\n",
    "tokenizer = Tokenizer(num_words=max_features, split=' ')\n",
    "tokenizer.fit_on_texts(data['text'].values)\n",
    "X = tokenizer.texts_to_sequences(data['text'].values)\n",
    "X = pad_sequences(X)\n",
    "\n",
    "# Label Encoding\n",
    "label_encoder = LabelEncoder()\n",
    "integer_encoded = label_encoder.fit_transform(data['sentiment'])\n",
    "y = to_categorical(integer_encoded)"
   ]
  },
  {
   "cell_type": "code",
   "execution_count": 5,
   "metadata": {
    "id": "1YjqFiwhKJ1N"
   },
   "outputs": [],
   "source": [
    "X_train, X_test, y_train, y_test = train_test_split(X, y, test_size=0.33, random_state=42)"
   ]
  },
  {
   "cell_type": "code",
   "execution_count": 6,
   "metadata": {
    "scrolled": true
   },
   "outputs": [
    {
     "name": "stdout",
     "output_type": "stream",
     "text": [
      "Model: \"sequential\"\n",
      "_________________________________________________________________\n",
      " Layer (type)                Output Shape              Param #   \n",
      "=================================================================\n",
      " embedding (Embedding)       (None, 28, 128)           256000    \n",
      "                                                                 \n",
      " lstm (LSTM)                 (None, 196)               254800    \n",
      "                                                                 \n",
      " dense (Dense)               (None, 3)                 591       \n",
      "                                                                 \n",
      "=================================================================\n",
      "Total params: 511391 (1.95 MB)\n",
      "Trainable params: 511391 (1.95 MB)\n",
      "Non-trainable params: 0 (0.00 Byte)\n",
      "_________________________________________________________________\n",
      "None\n",
      "Epoch 1/10\n",
      "291/291 - 18s - loss: 0.8252 - accuracy: 0.6436 - val_loss: 0.7496 - val_accuracy: 0.6747 - 18s/epoch - 62ms/step\n",
      "Epoch 2/10\n",
      "291/291 - 17s - loss: 0.6791 - accuracy: 0.7114 - val_loss: 0.7438 - val_accuracy: 0.6863 - 17s/epoch - 59ms/step\n",
      "Epoch 3/10\n",
      "291/291 - 17s - loss: 0.6141 - accuracy: 0.7417 - val_loss: 0.7571 - val_accuracy: 0.6824 - 17s/epoch - 59ms/step\n",
      "Epoch 4/10\n",
      "291/291 - 17s - loss: 0.5738 - accuracy: 0.7610 - val_loss: 0.7851 - val_accuracy: 0.6693 - 17s/epoch - 58ms/step\n",
      "Epoch 5/10\n",
      "291/291 - 17s - loss: 0.5290 - accuracy: 0.7779 - val_loss: 0.8194 - val_accuracy: 0.6732 - 17s/epoch - 58ms/step\n",
      "Epoch 6/10\n",
      "291/291 - 17s - loss: 0.4864 - accuracy: 0.8005 - val_loss: 0.8653 - val_accuracy: 0.6684 - 17s/epoch - 59ms/step\n",
      "Epoch 7/10\n",
      "291/291 - 17s - loss: 0.4477 - accuracy: 0.8153 - val_loss: 0.8908 - val_accuracy: 0.6586 - 17s/epoch - 59ms/step\n",
      "Epoch 8/10\n",
      "291/291 - 17s - loss: 0.4130 - accuracy: 0.8361 - val_loss: 1.0199 - val_accuracy: 0.6584 - 17s/epoch - 58ms/step\n",
      "Epoch 9/10\n",
      "291/291 - 17s - loss: 0.3818 - accuracy: 0.8401 - val_loss: 1.0483 - val_accuracy: 0.6560 - 17s/epoch - 59ms/step\n",
      "Epoch 10/10\n",
      "291/291 - 17s - loss: 0.3535 - accuracy: 0.8544 - val_loss: 1.2282 - val_accuracy: 0.6566 - 17s/epoch - 58ms/step\n"
     ]
    }
   ],
   "source": [
    "# LSTM Model Architecture\n",
    "embed_dim = 128\n",
    "lstm_out = 196\n",
    "\n",
    "model = Sequential()\n",
    "model.add(Embedding(max_features, embed_dim, input_length=X.shape[1]))\n",
    "model.add(LSTM(lstm_out, dropout=0.2, recurrent_dropout=0.2))\n",
    "model.add(Dense(3, activation='softmax'))\n",
    "model.compile(loss='categorical_crossentropy', optimizer='adam', metrics=['accuracy'])\n",
    "\n",
    "# Model Summary\n",
    "print(model.summary())\n",
    "\n",
    "# Train the model\n",
    "history = model.fit(X_train, y_train, epochs=10, batch_size=32, validation_data=(X_test, y_test), verbose=2)\n"
   ]
  },
  {
   "cell_type": "code",
   "execution_count": 7,
   "metadata": {},
   "outputs": [
    {
     "name": "stdout",
     "output_type": "stream",
     "text": [
      "144/144 - 1s - loss: 1.2282 - accuracy: 0.6566 - 1s/epoch - 8ms/step\n",
      "Test Loss: 1.2282441854476929\n",
      "Test Accuracy: 0.656618595123291\n"
     ]
    },
    {
     "data": {
      "image/png": "[encoded data removed]",
      "text/plain": [
       "<Figure size 640x480 with 1 Axes>"
      ]
     },
     "metadata": {},
     "output_type": "display_data"
    },
    {
     "data": {
      "image/png": "[encoded data removed]",
      "text/plain": [
       "<Figure size 640x480 with 1 Axes>"
      ]
     },
     "metadata": {},
     "output_type": "display_data"
    }
   ],
   "source": [
    "# Evaluate the model on test data\n",
    "score, accuracy = model.evaluate(X_test, y_test, verbose=2, batch_size=32)\n",
    "print(\"Test Loss:\", score)\n",
    "print(\"Test Accuracy:\", accuracy)\n",
    "\n",
    "\n",
    "# Plot training and validation accuracy over epochs\n",
    "plt.plot(history.history['accuracy'], label='Training accuracy')\n",
    "plt.plot(history.history['val_accuracy'], label='Validation accuracy')\n",
    "plt.xlabel('Epochs')\n",
    "plt.ylabel('Loss')\n",
    "plt.legend()\n",
    "plt.title('Training and Validation accuracy')\n",
    "plt.show()\n",
    "\n",
    "# Plot training and validation loss over epochs\n",
    "plt.plot(history.history['loss'], label='Training Loss')\n",
    "plt.plot(history.history['val_loss'], label='Validation Loss')\n",
    "plt.xlabel('Epochs')\n",
    "plt.ylabel('Loss')\n",
    "plt.legend()\n",
    "plt.title('Training and Validation Loss')\n",
    "plt.show()"
   ]
  },
  {
   "cell_type": "code",
   "execution_count": 8,
   "metadata": {},
   "outputs": [],
   "source": [
    "# Save the trained model\n",
    "model.save('sentimentAnalysis.keras')"
   ]
  },
  {
   "cell_type": "code",
   "execution_count": 9,
   "metadata": {},
   "outputs": [],
   "source": [
    "from keras.models import load_model\n",
    "model = load_model('sentimentAnalysis.keras')"
   ]
  },
  {
   "cell_type": "code",
   "execution_count": 10,
   "metadata": {},
   "outputs": [],
   "source": [
    "# Define the text data to predict sentiment\n",
    "sentence = ['A lot of good things are happening. We are respected again throughout the world, and that is a great thing. @realDonaldTrump']\n",
    "\n",
    "# Tokenize and pad the sentence\n",
    "sentence = tokenizer.texts_to_sequences(sentence)\n",
    "sentence = pad_sequences(sentence, maxlen=28, dtype='int32', value=0)"
   ]
  },
  {
   "cell_type": "code",
   "execution_count": 11,
   "metadata": {},
   "outputs": [
    {
     "name": "stdout",
     "output_type": "stream",
     "text": [
      "1/1 - 0s - 222ms/epoch - 222ms/step\n",
      "Neutral\n"
     ]
    }
   ],
   "source": [
    "# Make predictions using the loaded model\n",
    "sentiment_probs = model.predict(sentence, batch_size=1, verbose=2)[0]\n",
    "\n",
    "# Convert sentiment probabilities to sentiment label\n",
    "sentiment = np.argmax(sentiment_probs)\n",
    "\n",
    "# Print the sentiment label\n",
    "if sentiment == 0:\n",
    "    print(\"Neutral\")\n",
    "elif sentiment < 0:\n",
    "    print(\"Negative\")\n",
    "elif sentiment > 0:\n",
    "    print(\"Positive\")\n",
    "else:\n",
    "    print(\"Cannot be determined\")"
   ]
  },
  {
   "cell_type": "code",
   "execution_count": 12,
   "metadata": {},
   "outputs": [],
   "source": [
    "# Apply GridSearchCV on the source code provided in the class\n",
    "from scikeras.wrappers import KerasClassifier #importing Keras classifier\n",
    "from sklearn.model_selection import GridSearchCV #importing Grid search CV"
   ]
  },
  {
   "cell_type": "code",
   "execution_count": 13,
   "metadata": {},
   "outputs": [
    {
     "name": "stderr",
     "output_type": "stream",
     "text": [
      "C:\\Users\\manis\\anaconda3\\lib\\site-packages\\scikeras\\wrappers.py:915: UserWarning: ``build_fn`` will be renamed to ``model`` in a future release, at which point use of ``build_fn`` will raise an Error instead.\n",
      "  X, y = self._initialize(X, y)\n"
     ]
    },
    {
     "name": "stdout",
     "output_type": "stream",
     "text": [
      "744/744 - 30s - loss: 0.8219 - accuracy: 0.6538 - 30s/epoch - 41ms/step\n",
      "186/186 - 1s - 1s/epoch - 7ms/step\n"
     ]
    },
    {
     "name": "stderr",
     "output_type": "stream",
     "text": [
      "C:\\Users\\manis\\anaconda3\\lib\\site-packages\\scikeras\\wrappers.py:915: UserWarning: ``build_fn`` will be renamed to ``model`` in a future release, at which point use of ``build_fn`` will raise an Error instead.\n",
      "  X, y = self._initialize(X, y)\n"
     ]
    },
    {
     "name": "stdout",
     "output_type": "stream",
     "text": [
      "744/744 - 35s - loss: 0.8195 - accuracy: 0.6462 - 35s/epoch - 47ms/step\n",
      "186/186 - 2s - 2s/epoch - 9ms/step\n"
     ]
    },
    {
     "name": "stderr",
     "output_type": "stream",
     "text": [
      "C:\\Users\\manis\\anaconda3\\lib\\site-packages\\scikeras\\wrappers.py:915: UserWarning: ``build_fn`` will be renamed to ``model`` in a future release, at which point use of ``build_fn`` will raise an Error instead.\n",
      "  X, y = self._initialize(X, y)\n"
     ]
    },
    {
     "name": "stdout",
     "output_type": "stream",
     "text": [
      "744/744 - 32s - loss: 0.8239 - accuracy: 0.6451 - 32s/epoch - 44ms/step\n",
      "186/186 - 1s - 1s/epoch - 8ms/step\n"
     ]
    },
    {
     "name": "stderr",
     "output_type": "stream",
     "text": [
      "C:\\Users\\manis\\anaconda3\\lib\\site-packages\\scikeras\\wrappers.py:915: UserWarning: ``build_fn`` will be renamed to ``model`` in a future release, at which point use of ``build_fn`` will raise an Error instead.\n",
      "  X, y = self._initialize(X, y)\n"
     ]
    },
    {
     "name": "stdout",
     "output_type": "stream",
     "text": [
      "744/744 - 34s - loss: 0.8259 - accuracy: 0.6510 - 34s/epoch - 46ms/step\n",
      "186/186 - 2s - 2s/epoch - 8ms/step\n"
     ]
    },
    {
     "name": "stderr",
     "output_type": "stream",
     "text": [
      "C:\\Users\\manis\\anaconda3\\lib\\site-packages\\scikeras\\wrappers.py:915: UserWarning: ``build_fn`` will be renamed to ``model`` in a future release, at which point use of ``build_fn`` will raise an Error instead.\n",
      "  X, y = self._initialize(X, y)\n"
     ]
    },
    {
     "name": "stdout",
     "output_type": "stream",
     "text": [
      "744/744 - 37s - loss: 0.8284 - accuracy: 0.6472 - 37s/epoch - 50ms/step\n",
      "186/186 - 2s - 2s/epoch - 12ms/step\n",
      "Epoch 1/2\n"
     ]
    },
    {
     "name": "stderr",
     "output_type": "stream",
     "text": [
      "C:\\Users\\manis\\anaconda3\\lib\\site-packages\\scikeras\\wrappers.py:915: UserWarning: ``build_fn`` will be renamed to ``model`` in a future release, at which point use of ``build_fn`` will raise an Error instead.\n",
      "  X, y = self._initialize(X, y)\n"
     ]
    },
    {
     "name": "stdout",
     "output_type": "stream",
     "text": [
      "744/744 - 34s - loss: 0.8305 - accuracy: 0.6441 - 34s/epoch - 46ms/step\n",
      "Epoch 2/2\n",
      "744/744 - 32s - loss: 0.6862 - accuracy: 0.7103 - 32s/epoch - 43ms/step\n",
      "186/186 - 2s - 2s/epoch - 10ms/step\n",
      "Epoch 1/2\n"
     ]
    },
    {
     "name": "stderr",
     "output_type": "stream",
     "text": [
      "C:\\Users\\manis\\anaconda3\\lib\\site-packages\\scikeras\\wrappers.py:915: UserWarning: ``build_fn`` will be renamed to ``model`` in a future release, at which point use of ``build_fn`` will raise an Error instead.\n",
      "  X, y = self._initialize(X, y)\n"
     ]
    },
    {
     "name": "stdout",
     "output_type": "stream",
     "text": [
      "744/744 - 33s - loss: 0.8226 - accuracy: 0.6480 - 33s/epoch - 45ms/step\n",
      "Epoch 2/2\n",
      "744/744 - 32s - loss: 0.6834 - accuracy: 0.7166 - 32s/epoch - 43ms/step\n",
      "186/186 - 2s - 2s/epoch - 8ms/step\n",
      "Epoch 1/2\n"
     ]
    },
    {
     "name": "stderr",
     "output_type": "stream",
     "text": [
      "C:\\Users\\manis\\anaconda3\\lib\\site-packages\\scikeras\\wrappers.py:915: UserWarning: ``build_fn`` will be renamed to ``model`` in a future release, at which point use of ``build_fn`` will raise an Error instead.\n",
      "  X, y = self._initialize(X, y)\n"
     ]
    },
    {
     "name": "stdout",
     "output_type": "stream",
     "text": [
      "744/744 - 39s - loss: 0.8174 - accuracy: 0.6469 - 39s/epoch - 53ms/step\n",
      "Epoch 2/2\n",
      "744/744 - 39s - loss: 0.6713 - accuracy: 0.7168 - 39s/epoch - 52ms/step\n",
      "186/186 - 3s - 3s/epoch - 16ms/step\n"
     ]
    },
    {
     "name": "stderr",
     "output_type": "stream",
     "text": [
      "C:\\Users\\manis\\anaconda3\\lib\\site-packages\\scikeras\\wrappers.py:915: UserWarning: ``build_fn`` will be renamed to ``model`` in a future release, at which point use of ``build_fn`` will raise an Error instead.\n",
      "  X, y = self._initialize(X, y)\n"
     ]
    },
    {
     "name": "stdout",
     "output_type": "stream",
     "text": [
      "Epoch 1/2\n",
      "744/744 - 40s - loss: 0.8244 - accuracy: 0.6460 - 40s/epoch - 54ms/step\n",
      "Epoch 2/2\n",
      "744/744 - 37s - loss: 0.6759 - accuracy: 0.7115 - 37s/epoch - 49ms/step\n",
      "186/186 - 2s - 2s/epoch - 13ms/step\n",
      "Epoch 1/2\n"
     ]
    },
    {
     "name": "stderr",
     "output_type": "stream",
     "text": [
      "C:\\Users\\manis\\anaconda3\\lib\\site-packages\\scikeras\\wrappers.py:915: UserWarning: ``build_fn`` will be renamed to ``model`` in a future release, at which point use of ``build_fn`` will raise an Error instead.\n",
      "  X, y = self._initialize(X, y)\n"
     ]
    },
    {
     "name": "stdout",
     "output_type": "stream",
     "text": [
      "744/744 - 36s - loss: 0.8177 - accuracy: 0.6504 - 36s/epoch - 49ms/step\n",
      "Epoch 2/2\n",
      "744/744 - 34s - loss: 0.6704 - accuracy: 0.7176 - 34s/epoch - 46ms/step\n",
      "186/186 - 2s - 2s/epoch - 11ms/step\n"
     ]
    },
    {
     "name": "stderr",
     "output_type": "stream",
     "text": [
      "C:\\Users\\manis\\anaconda3\\lib\\site-packages\\scikeras\\wrappers.py:915: UserWarning: ``build_fn`` will be renamed to ``model`` in a future release, at which point use of ``build_fn`` will raise an Error instead.\n",
      "  X, y = self._initialize(X, y)\n"
     ]
    },
    {
     "name": "stdout",
     "output_type": "stream",
     "text": [
      "372/372 - 28s - loss: 0.8263 - accuracy: 0.6441 - 28s/epoch - 75ms/step\n",
      "93/93 - 2s - 2s/epoch - 23ms/step\n"
     ]
    },
    {
     "name": "stderr",
     "output_type": "stream",
     "text": [
      "C:\\Users\\manis\\anaconda3\\lib\\site-packages\\scikeras\\wrappers.py:915: UserWarning: ``build_fn`` will be renamed to ``model`` in a future release, at which point use of ``build_fn`` will raise an Error instead.\n",
      "  X, y = self._initialize(X, y)\n"
     ]
    },
    {
     "name": "stdout",
     "output_type": "stream",
     "text": [
      "372/372 - 29s - loss: 0.8333 - accuracy: 0.6478 - 29s/epoch - 78ms/step\n",
      "93/93 - 2s - 2s/epoch - 23ms/step\n"
     ]
    },
    {
     "name": "stderr",
     "output_type": "stream",
     "text": [
      "C:\\Users\\manis\\anaconda3\\lib\\site-packages\\scikeras\\wrappers.py:915: UserWarning: ``build_fn`` will be renamed to ``model`` in a future release, at which point use of ``build_fn`` will raise an Error instead.\n",
      "  X, y = self._initialize(X, y)\n"
     ]
    },
    {
     "name": "stdout",
     "output_type": "stream",
     "text": [
      "372/372 - 38s - loss: 0.8334 - accuracy: 0.6376 - 38s/epoch - 102ms/step\n",
      "93/93 - 3s - 3s/epoch - 35ms/step\n"
     ]
    },
    {
     "name": "stderr",
     "output_type": "stream",
     "text": [
      "C:\\Users\\manis\\anaconda3\\lib\\site-packages\\scikeras\\wrappers.py:915: UserWarning: ``build_fn`` will be renamed to ``model`` in a future release, at which point use of ``build_fn`` will raise an Error instead.\n",
      "  X, y = self._initialize(X, y)\n"
     ]
    },
    {
     "name": "stdout",
     "output_type": "stream",
     "text": [
      "372/372 - 31s - loss: 0.8358 - accuracy: 0.6417 - 31s/epoch - 84ms/step\n",
      "93/93 - 3s - 3s/epoch - 28ms/step\n"
     ]
    },
    {
     "name": "stderr",
     "output_type": "stream",
     "text": [
      "C:\\Users\\manis\\anaconda3\\lib\\site-packages\\scikeras\\wrappers.py:915: UserWarning: ``build_fn`` will be renamed to ``model`` in a future release, at which point use of ``build_fn`` will raise an Error instead.\n",
      "  X, y = self._initialize(X, y)\n"
     ]
    },
    {
     "name": "stdout",
     "output_type": "stream",
     "text": [
      "372/372 - 30s - loss: 0.8290 - accuracy: 0.6428 - 30s/epoch - 82ms/step\n",
      "93/93 - 2s - 2s/epoch - 23ms/step\n"
     ]
    },
    {
     "name": "stderr",
     "output_type": "stream",
     "text": [
      "C:\\Users\\manis\\anaconda3\\lib\\site-packages\\scikeras\\wrappers.py:915: UserWarning: ``build_fn`` will be renamed to ``model`` in a future release, at which point use of ``build_fn`` will raise an Error instead.\n",
      "  X, y = self._initialize(X, y)\n"
     ]
    },
    {
     "name": "stdout",
     "output_type": "stream",
     "text": [
      "Epoch 1/2\n",
      "372/372 - 39s - loss: 0.8346 - accuracy: 0.6434 - 39s/epoch - 105ms/step\n",
      "Epoch 2/2\n",
      "372/372 - 36s - loss: 0.6790 - accuracy: 0.7104 - 36s/epoch - 98ms/step\n",
      "93/93 - 3s - 3s/epoch - 30ms/step\n",
      "Epoch 1/2\n"
     ]
    },
    {
     "name": "stderr",
     "output_type": "stream",
     "text": [
      "C:\\Users\\manis\\anaconda3\\lib\\site-packages\\scikeras\\wrappers.py:915: UserWarning: ``build_fn`` will be renamed to ``model`` in a future release, at which point use of ``build_fn`` will raise an Error instead.\n",
      "  X, y = self._initialize(X, y)\n"
     ]
    },
    {
     "name": "stdout",
     "output_type": "stream",
     "text": [
      "372/372 - 34s - loss: 0.8285 - accuracy: 0.6427 - 34s/epoch - 93ms/step\n",
      "Epoch 2/2\n",
      "372/372 - 32s - loss: 0.6827 - accuracy: 0.7078 - 32s/epoch - 86ms/step\n",
      "93/93 - 3s - 3s/epoch - 28ms/step\n",
      "Epoch 1/2\n"
     ]
    },
    {
     "name": "stderr",
     "output_type": "stream",
     "text": [
      "C:\\Users\\manis\\anaconda3\\lib\\site-packages\\scikeras\\wrappers.py:915: UserWarning: ``build_fn`` will be renamed to ``model`` in a future release, at which point use of ``build_fn`` will raise an Error instead.\n",
      "  X, y = self._initialize(X, y)\n"
     ]
    },
    {
     "name": "stdout",
     "output_type": "stream",
     "text": [
      "372/372 - 34s - loss: 0.8340 - accuracy: 0.6429 - 34s/epoch - 91ms/step\n",
      "Epoch 2/2\n",
      "372/372 - 31s - loss: 0.6780 - accuracy: 0.7116 - 31s/epoch - 84ms/step\n",
      "93/93 - 2s - 2s/epoch - 25ms/step\n"
     ]
    },
    {
     "name": "stderr",
     "output_type": "stream",
     "text": [
      "C:\\Users\\manis\\anaconda3\\lib\\site-packages\\scikeras\\wrappers.py:915: UserWarning: ``build_fn`` will be renamed to ``model`` in a future release, at which point use of ``build_fn`` will raise an Error instead.\n",
      "  X, y = self._initialize(X, y)\n"
     ]
    },
    {
     "name": "stdout",
     "output_type": "stream",
     "text": [
      "Epoch 1/2\n",
      "372/372 - 48s - loss: 0.8357 - accuracy: 0.6409 - 48s/epoch - 128ms/step\n",
      "Epoch 2/2\n",
      "372/372 - 49s - loss: 0.6851 - accuracy: 0.7098 - 49s/epoch - 133ms/step\n",
      "93/93 - 4s - 4s/epoch - 47ms/step\n"
     ]
    },
    {
     "name": "stderr",
     "output_type": "stream",
     "text": [
      "C:\\Users\\manis\\anaconda3\\lib\\site-packages\\scikeras\\wrappers.py:915: UserWarning: ``build_fn`` will be renamed to ``model`` in a future release, at which point use of ``build_fn`` will raise an Error instead.\n",
      "  X, y = self._initialize(X, y)\n"
     ]
    },
    {
     "name": "stdout",
     "output_type": "stream",
     "text": [
      "Epoch 1/2\n",
      "372/372 - 48s - loss: 0.8322 - accuracy: 0.6452 - 48s/epoch - 128ms/step\n",
      "Epoch 2/2\n",
      "372/372 - 43s - loss: 0.6704 - accuracy: 0.7137 - 43s/epoch - 117ms/step\n",
      "93/93 - 4s - 4s/epoch - 41ms/step\n"
     ]
    },
    {
     "name": "stderr",
     "output_type": "stream",
     "text": [
      "C:\\Users\\manis\\anaconda3\\lib\\site-packages\\scikeras\\wrappers.py:915: UserWarning: ``build_fn`` will be renamed to ``model`` in a future release, at which point use of ``build_fn`` will raise an Error instead.\n",
      "  X, y = self._initialize(X, y)\n"
     ]
    },
    {
     "name": "stdout",
     "output_type": "stream",
     "text": [
      "186/186 - 44s - loss: 0.8547 - accuracy: 0.6355 - 44s/epoch - 237ms/step\n",
      "47/47 - 4s - 4s/epoch - 86ms/step\n"
     ]
    },
    {
     "name": "stderr",
     "output_type": "stream",
     "text": [
      "C:\\Users\\manis\\anaconda3\\lib\\site-packages\\scikeras\\wrappers.py:915: UserWarning: ``build_fn`` will be renamed to ``model`` in a future release, at which point use of ``build_fn`` will raise an Error instead.\n",
      "  X, y = self._initialize(X, y)\n"
     ]
    },
    {
     "name": "stdout",
     "output_type": "stream",
     "text": [
      "186/186 - 40s - loss: 0.8369 - accuracy: 0.6447 - 40s/epoch - 217ms/step\n",
      "47/47 - 4s - 4s/epoch - 89ms/step\n"
     ]
    },
    {
     "name": "stderr",
     "output_type": "stream",
     "text": [
      "C:\\Users\\manis\\anaconda3\\lib\\site-packages\\scikeras\\wrappers.py:915: UserWarning: ``build_fn`` will be renamed to ``model`` in a future release, at which point use of ``build_fn`` will raise an Error instead.\n",
      "  X, y = self._initialize(X, y)\n"
     ]
    },
    {
     "name": "stdout",
     "output_type": "stream",
     "text": [
      "186/186 - 33s - loss: 0.8423 - accuracy: 0.6345 - 33s/epoch - 179ms/step\n",
      "47/47 - 3s - 3s/epoch - 71ms/step\n"
     ]
    },
    {
     "name": "stderr",
     "output_type": "stream",
     "text": [
      "C:\\Users\\manis\\anaconda3\\lib\\site-packages\\scikeras\\wrappers.py:915: UserWarning: ``build_fn`` will be renamed to ``model`` in a future release, at which point use of ``build_fn`` will raise an Error instead.\n",
      "  X, y = self._initialize(X, y)\n"
     ]
    },
    {
     "name": "stdout",
     "output_type": "stream",
     "text": [
      "186/186 - 42s - loss: 0.8421 - accuracy: 0.6331 - 42s/epoch - 227ms/step\n",
      "47/47 - 4s - 4s/epoch - 92ms/step\n"
     ]
    },
    {
     "name": "stderr",
     "output_type": "stream",
     "text": [
      "C:\\Users\\manis\\anaconda3\\lib\\site-packages\\scikeras\\wrappers.py:915: UserWarning: ``build_fn`` will be renamed to ``model`` in a future release, at which point use of ``build_fn`` will raise an Error instead.\n",
      "  X, y = self._initialize(X, y)\n"
     ]
    },
    {
     "name": "stdout",
     "output_type": "stream",
     "text": [
      "186/186 - 35s - loss: 0.8498 - accuracy: 0.6375 - 35s/epoch - 188ms/step\n",
      "47/47 - 3s - 3s/epoch - 73ms/step\n"
     ]
    },
    {
     "name": "stderr",
     "output_type": "stream",
     "text": [
      "C:\\Users\\manis\\anaconda3\\lib\\site-packages\\scikeras\\wrappers.py:915: UserWarning: ``build_fn`` will be renamed to ``model`` in a future release, at which point use of ``build_fn`` will raise an Error instead.\n",
      "  X, y = self._initialize(X, y)\n"
     ]
    },
    {
     "name": "stdout",
     "output_type": "stream",
     "text": [
      "Epoch 1/2\n",
      "186/186 - 32s - loss: 0.8529 - accuracy: 0.6345 - 32s/epoch - 171ms/step\n",
      "Epoch 2/2\n",
      "186/186 - 29s - loss: 0.6926 - accuracy: 0.7073 - 29s/epoch - 156ms/step\n",
      "47/47 - 4s - 4s/epoch - 82ms/step\n"
     ]
    },
    {
     "name": "stderr",
     "output_type": "stream",
     "text": [
      "C:\\Users\\manis\\anaconda3\\lib\\site-packages\\scikeras\\wrappers.py:915: UserWarning: ``build_fn`` will be renamed to ``model`` in a future release, at which point use of ``build_fn`` will raise an Error instead.\n",
      "  X, y = self._initialize(X, y)\n"
     ]
    },
    {
     "name": "stdout",
     "output_type": "stream",
     "text": [
      "Epoch 1/2\n",
      "186/186 - 44s - loss: 0.8553 - accuracy: 0.6316 - 44s/epoch - 236ms/step\n",
      "Epoch 2/2\n",
      "186/186 - 39s - loss: 0.6915 - accuracy: 0.7047 - 39s/epoch - 212ms/step\n",
      "47/47 - 5s - 5s/epoch - 104ms/step\n"
     ]
    },
    {
     "name": "stderr",
     "output_type": "stream",
     "text": [
      "C:\\Users\\manis\\anaconda3\\lib\\site-packages\\scikeras\\wrappers.py:915: UserWarning: ``build_fn`` will be renamed to ``model`` in a future release, at which point use of ``build_fn`` will raise an Error instead.\n",
      "  X, y = self._initialize(X, y)\n"
     ]
    },
    {
     "name": "stdout",
     "output_type": "stream",
     "text": [
      "Epoch 1/2\n",
      "186/186 - 39s - loss: 0.8456 - accuracy: 0.6326 - 39s/epoch - 209ms/step\n",
      "Epoch 2/2\n",
      "186/186 - 33s - loss: 0.6923 - accuracy: 0.7024 - 33s/epoch - 176ms/step\n",
      "47/47 - 3s - 3s/epoch - 73ms/step\n"
     ]
    },
    {
     "name": "stderr",
     "output_type": "stream",
     "text": [
      "C:\\Users\\manis\\anaconda3\\lib\\site-packages\\scikeras\\wrappers.py:915: UserWarning: ``build_fn`` will be renamed to ``model`` in a future release, at which point use of ``build_fn`` will raise an Error instead.\n",
      "  X, y = self._initialize(X, y)\n"
     ]
    },
    {
     "name": "stdout",
     "output_type": "stream",
     "text": [
      "Epoch 1/2\n",
      "186/186 - 35s - loss: 0.8447 - accuracy: 0.6369 - 35s/epoch - 190ms/step\n",
      "Epoch 2/2\n",
      "186/186 - 30s - loss: 0.6886 - accuracy: 0.7064 - 30s/epoch - 161ms/step\n",
      "47/47 - 4s - 4s/epoch - 82ms/step\n"
     ]
    },
    {
     "name": "stderr",
     "output_type": "stream",
     "text": [
      "C:\\Users\\manis\\anaconda3\\lib\\site-packages\\scikeras\\wrappers.py:915: UserWarning: ``build_fn`` will be renamed to ``model`` in a future release, at which point use of ``build_fn`` will raise an Error instead.\n",
      "  X, y = self._initialize(X, y)\n"
     ]
    },
    {
     "name": "stdout",
     "output_type": "stream",
     "text": [
      "Epoch 1/2\n",
      "186/186 - 45s - loss: 0.8373 - accuracy: 0.6399 - 45s/epoch - 244ms/step\n",
      "Epoch 2/2\n",
      "186/186 - 37s - loss: 0.6831 - accuracy: 0.7080 - 37s/epoch - 201ms/step\n",
      "47/47 - 5s - 5s/epoch - 111ms/step\n"
     ]
    },
    {
     "name": "stderr",
     "output_type": "stream",
     "text": [
      "C:\\Users\\manis\\anaconda3\\lib\\site-packages\\scikeras\\wrappers.py:915: UserWarning: ``build_fn`` will be renamed to ``model`` in a future release, at which point use of ``build_fn`` will raise an Error instead.\n",
      "  X, y = self._initialize(X, y)\n"
     ]
    },
    {
     "name": "stdout",
     "output_type": "stream",
     "text": [
      "Epoch 1/2\n",
      "233/233 - 42s - loss: 0.8345 - accuracy: 0.6422 - 42s/epoch - 182ms/step\n",
      "Epoch 2/2\n",
      "233/233 - 37s - loss: 0.6830 - accuracy: 0.7086 - 37s/epoch - 157ms/step\n",
      "Best Score: 0.683848 using {'batch_size': 40, 'epochs': 2}\n"
     ]
    }
   ],
   "source": [
    "# Now you can proceed with the GridSearchCV\n",
    "model = KerasClassifier(build_fn=createmodel, verbose=2)\n",
    "batch_size = [10, 20, 40]\n",
    "epochs = [1, 2]\n",
    "param_grid = {'batch_size': batch_size, 'epochs': epochs}\n",
    "grid = GridSearchCV(estimator=model, param_grid=param_grid)\n",
    "grid_result = grid.fit(X_train, y_train)\n",
    "\n",
    "\n",
    "# Print the best score and best hyperparameters found by GridSearchCV\n",
    "print(\"Best Score: %f using %s\" % (grid_result.best_score_, grid_result.best_params_))"
   ]
  },
  {
   "cell_type": "code",
   "execution_count": 14,
   "metadata": {},
   "outputs": [
    {
     "data": {
      "image/png": "[encoded data removed]",
      "text/plain": [
       "<Figure size 800x600 with 1 Axes>"
      ]
     },
     "metadata": {},
     "output_type": "display_data"
    }
   ],
   "source": [
    "# Plot the results of GridSearchCV\n",
    "mean_scores = grid_result.cv_results_['mean_test_score']\n",
    "param_batch_size = grid_result.cv_results_['param_batch_size']\n",
    "param_epochs = grid_result.cv_results_['param_epochs']\n",
    "\n",
    "plt.figure(figsize=(8, 6))\n",
    "for i, batch_size in enumerate(batch_size):\n",
    "    plt.plot(epochs, mean_scores[i * len(epochs): (i + 1) * len(epochs)], label=f'batch_size={batch_size}')\n",
    "\n",
    "plt.xlabel('Number of Epochs')\n",
    "plt.ylabel('Mean Test Score')\n",
    "plt.title('GridSearchCV Results')\n",
    "plt.legend()\n",
    "plt.show()"
   ]
  }
 ],
 "metadata": {
  "accelerator": "GPU",
  "colab": {
   "gpuType": "T4",
   "provenance": []
  },
  "kernelspec": {
   "display_name": "Python 3 (ipykernel)",
   "language": "python",
   "name": "python3"
  },
  "language_info": {
   "codemirror_mode": {
    "name": "ipython",
    "version": 3
   },
   "file_extension": ".py",
   "mimetype": "text/x-python",
   "name": "python",
   "nbconvert_exporter": "python",
   "pygments_lexer": "ipython3",
   "version": "3.10.9"
  }
 },
 "nbformat": 4,
 "nbformat_minor": 1
}
